{
 "cells": [
  {
   "cell_type": "code",
   "execution_count": 3,
   "id": "924cbb04",
   "metadata": {},
   "outputs": [
    {
     "name": "stdout",
     "output_type": "stream",
     "text": [
      "Ttest_indResult(statistic=-2.6509274522093804, pvalue=0.03798151474840756)\n"
     ]
    }
   ],
   "source": [
    "import pandas as pd\n",
    "\n",
    "from scipy.stats import ttest_ind\n",
    "\n",
    "\n",
    "\n",
    "\n",
    "\n",
    "raw_data = pd.read_csv(\"raw_data.csv\")\n",
    "\n",
    "\n",
    "\n",
    "# Filter the data based on Grip Strength > 20\n",
    "\n",
    "clean_data = raw_data[raw_data['Grip Strength'] > 20]\n",
    "\n",
    "\n",
    "\n",
    "# Save the clean data to a new file\n",
    "\n",
    "clean_data.to_csv(\"raw_data.csv\", index=False)\n",
    "\n",
    "\n",
    "\n",
    "# Load the clean data CSV file\n",
    "\n",
    "clean_data = pd.read_csv(\"raw_data.csv\")\n",
    "\n",
    "\n",
    "\n",
    "# Perform t-test for Grip Strength between Frailty groups\n",
    "\n",
    "frailty_1 = clean_data[clean_data['Frailty'] == 'Y']['Grip Strength']\n",
    "\n",
    "frailty_0 = clean_data[clean_data['Frailty'] == 'N']['Grip Strength']\n",
    "\n",
    "t_test_result = ttest_ind(frailty_1, frailty_0)\n",
    "\n",
    "\n",
    "\n",
    "# Save the t-test result to a file\n",
    "\n",
    "print(t_test_result)"
   ]
  },
  {
   "cell_type": "code",
   "execution_count": null,
   "id": "622be3ee",
   "metadata": {},
   "outputs": [],
   "source": []
  }
 ],
 "metadata": {
  "kernelspec": {
   "display_name": "Python 3 (ipykernel)",
   "language": "python",
   "name": "python3"
  },
  "language_info": {
   "codemirror_mode": {
    "name": "ipython",
    "version": 3
   },
   "file_extension": ".py",
   "mimetype": "text/x-python",
   "name": "python",
   "nbconvert_exporter": "python",
   "pygments_lexer": "ipython3",
   "version": "3.9.13"
  }
 },
 "nbformat": 4,
 "nbformat_minor": 5
}
